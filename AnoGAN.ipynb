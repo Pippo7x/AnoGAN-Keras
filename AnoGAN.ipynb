{
 "cells": [
  {
   "cell_type": "markdown",
   "id": "d84b5752",
   "metadata": {},
   "source": [
    "# AnoGAN"
   ]
  },
  {
   "cell_type": "code",
   "execution_count": null,
   "id": "6b06b5ea",
   "metadata": {},
   "outputs": [],
   "source": [
    "from model.dcgan import DCGAN\n",
    "from model.anogan import AnoGAN\n",
    "\n",
    "import tensorflow as tf\n",
    "import pandas as pd\n",
    "import numpy as np\n",
    "import matplotlib.pyplot as plt\n",
    "\n",
    "from tensorflow.keras import Sequential, Model\n",
    "from tensorflow.keras.layers import Conv2D, LeakyReLU, Flatten, Dense, Reshape, Conv2DTranspose, Input, MaxPool2D, UpSampling2D, BatchNormalization, Activation, Dropout, ZeroPadding2D\n",
    "%matplotlib inline"
   ]
  },
  {
   "cell_type": "code",
   "execution_count": null,
   "id": "acc0e764",
   "metadata": {},
   "outputs": [],
   "source": [
    "EPOCHS = 50\n",
    "NOISE_DIM = 100\n",
    "\n",
    "IMAGE_SIZE = (64, 64)\n",
    "CHANNELS = 3\n",
    "IMAGE_SHAPE = IMAGE_SIZE + tuple([CHANNELS])"
   ]
  },
  {
   "cell_type": "markdown",
   "id": "cebb7a27",
   "metadata": {},
   "source": [
    "## Dataset"
   ]
  },
  {
   "cell_type": "code",
   "execution_count": null,
   "id": "1b154120",
   "metadata": {},
   "outputs": [],
   "source": [
    "TRAIN_PATH = r\"C:\\Users\\filip\\Desktop\\Universita\\Laboratorio di Intelligenza Artificiale\\hazelnut\\train\"\n",
    "TEST_PATH = r\"C:\\Users\\filip\\Desktop\\Universita\\Laboratorio di Intelligenza Artificiale\\hazelnut\\test\"\n",
    "\n",
    "training_set = tf.keras.utils.image_dataset_from_directory(TRAIN_PATH, image_size = IMAGE_SIZE, batch_size = None, shuffle = False)\n",
    "test_set = tf.keras.utils.image_dataset_from_directory(TEST_PATH, image_size = IMAGE_SIZE)"
   ]
  },
  {
   "cell_type": "markdown",
   "id": "59570481",
   "metadata": {},
   "source": [
    "### Normalizzazione"
   ]
  },
  {
   "cell_type": "code",
   "execution_count": null,
   "id": "6ae7e7f0",
   "metadata": {},
   "outputs": [],
   "source": [
    "normalization_layer = tf.keras.layers.Rescaling(scale = (1./127.5), offset = -1)\n",
    "\n",
    "normalized_training_set = training_set.map(lambda x, y: (normalization_layer(x), y))\n",
    "normalized_test_set = test_set.map(lambda x, y: (normalization_layer(x), y))"
   ]
  },
  {
   "cell_type": "code",
   "execution_count": null,
   "id": "34313315",
   "metadata": {},
   "outputs": [],
   "source": [
    "BUFFER_SIZE = 391\n",
    "BATCH_SIZE = 17\n",
    "normalized_training_set = normalized_training_set.shuffle(BUFFER_SIZE).batch(BATCH_SIZE)"
   ]
  },
  {
   "cell_type": "code",
   "execution_count": null,
   "id": "a499d943",
   "metadata": {},
   "outputs": [],
   "source": [
    "len(normalized_training_set)"
   ]
  },
  {
   "cell_type": "markdown",
   "id": "88e2eb1b",
   "metadata": {},
   "source": [
    "## GAN"
   ]
  },
  {
   "cell_type": "code",
   "execution_count": null,
   "id": "08ee3e61",
   "metadata": {},
   "outputs": [],
   "source": [
    "gan = DCGAN(IMAGE_SHAPE, NOISE_DIM)"
   ]
  },
  {
   "cell_type": "code",
   "execution_count": null,
   "id": "96d0eb42",
   "metadata": {},
   "outputs": [],
   "source": [
    "img = gan.generator(tf.random.normal([1,100]))\n",
    "\n",
    "plt.imshow(img[0, :, :, 0])\n",
    "plt.show()"
   ]
  },
  {
   "cell_type": "code",
   "execution_count": null,
   "id": "d6107bee",
   "metadata": {},
   "outputs": [],
   "source": [
    "print(gan.discriminator(img))"
   ]
  },
  {
   "cell_type": "markdown",
   "id": "acb1ea24",
   "metadata": {},
   "source": [
    "## Training"
   ]
  },
  {
   "cell_type": "code",
   "execution_count": null,
   "id": "183c2abc",
   "metadata": {},
   "outputs": [],
   "source": [
    "#gan.restore()\n",
    "disc_loss, gen_loss = gan.train(normalized_training_set, EPOCHS)"
   ]
  },
  {
   "cell_type": "code",
   "execution_count": null,
   "id": "e1546bb1",
   "metadata": {},
   "outputs": [],
   "source": [
    "generated_img = gan.generator(tf.random.normal([1, 100]))\n",
    "i = np.array((generated_img[0] * 127.5) + 127.5 , np.int32)\n",
    "plt.imshow(i)\n",
    "plt.show()"
   ]
  },
  {
   "cell_type": "code",
   "execution_count": null,
   "id": "edff180d",
   "metadata": {},
   "outputs": [],
   "source": [
    "plt.plot(disc_loss)\n",
    "plt.plot(gen_loss)\n",
    "plt.show()"
   ]
  },
  {
   "cell_type": "markdown",
   "id": "0e26fe83",
   "metadata": {},
   "source": [
    "## Anomaly Detection"
   ]
  },
  {
   "cell_type": "code",
   "execution_count": null,
   "id": "31ed0f93",
   "metadata": {},
   "outputs": [],
   "source": [
    "anogan = AnoGAN(gan)"
   ]
  },
  {
   "cell_type": "code",
   "execution_count": null,
   "id": "82e0fe64",
   "metadata": {},
   "outputs": [],
   "source": [
    "test_image = []\n",
    "for images, labels in normalized_test_set:\n",
    "    for i in range(1):\n",
    "        test_image = images[i].numpy()\n",
    "    break\n",
    "test_image = np.array([test_image])\n",
    "anomaly_score, similar_img = anogan.anomaly_detection(test_image)"
   ]
  },
  {
   "cell_type": "code",
   "execution_count": null,
   "id": "6fe24c49",
   "metadata": {},
   "outputs": [],
   "source": [
    "print(anomaly_score)"
   ]
  },
  {
   "cell_type": "code",
   "execution_count": null,
   "id": "4f76b49b",
   "metadata": {},
   "outputs": [],
   "source": [
    "t = np.array((test_image[0] * 127.5) + 127.5, np.int32)\n",
    "s = np.array((similar_img[0] * 127.5) + 127.5, np.int32)\n",
    "plt.imshow(abs(t-s))\n",
    "plt.show()"
   ]
  },
  {
   "cell_type": "code",
   "execution_count": null,
   "id": "694c7426",
   "metadata": {},
   "outputs": [],
   "source": [
    "plt.imshow(abs(similar_img[0, :, :, 0]-test_image[0, : ,: ,0]), cmap=\"Accent_r\")"
   ]
  },
  {
   "cell_type": "code",
   "execution_count": null,
   "id": "be8dc805",
   "metadata": {},
   "outputs": [],
   "source": [
    "plt.imshow(t, cmap=\"Accent_r\")"
   ]
  },
  {
   "cell_type": "code",
   "execution_count": null,
   "id": "37626908",
   "metadata": {},
   "outputs": [],
   "source": []
  }
 ],
 "metadata": {
  "kernelspec": {
   "display_name": "Python 3 (ipykernel)",
   "language": "python",
   "name": "python3"
  },
  "language_info": {
   "codemirror_mode": {
    "name": "ipython",
    "version": 3
   },
   "file_extension": ".py",
   "mimetype": "text/x-python",
   "name": "python",
   "nbconvert_exporter": "python",
   "pygments_lexer": "ipython3",
   "version": "3.9.1"
  }
 },
 "nbformat": 4,
 "nbformat_minor": 5
}
