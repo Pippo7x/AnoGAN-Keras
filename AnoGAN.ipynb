{
 "cells": [
  {
   "cell_type": "code",
   "execution_count": 1,
   "id": "6b06b5ea",
   "metadata": {},
   "outputs": [],
   "source": [
    "from model.dcgan import DCGAN\n",
    "from model.anogan import AnoGAN\n",
    "\n",
    "import tensorflow as tf\n",
    "import pandas as pd\n",
    "import numpy as np\n",
    "import matplotlib.pyplot as plt\n",
    "\n",
    "from tensorflow.keras import Sequential, Model\n",
    "from tensorflow.keras.layers import Conv2D, LeakyReLU, Flatten, Dense, Reshape, Conv2DTranspose, Input, MaxPool2D, UpSampling2D, BatchNormalization, Activation, Dropout, ZeroPadding2D\n",
    "%matplotlib inline"
   ]
  },
  {
   "cell_type": "code",
   "execution_count": 2,
   "id": "acc0e764",
   "metadata": {},
   "outputs": [],
   "source": [
    "EPOCHS = 100\n",
    "NOISE_DIM = 100"
   ]
  },
  {
   "cell_type": "code",
   "execution_count": 3,
   "id": "1b154120",
   "metadata": {},
   "outputs": [
    {
     "name": "stdout",
     "output_type": "stream",
     "text": [
      "Found 391 files belonging to 1 classes.\n",
      "Found 110 files belonging to 5 classes.\n"
     ]
    }
   ],
   "source": [
    "TRAIN_PATH = r\"C:\\Users\\filip\\Desktop\\Universita\\Laboratorio di Intelligenza Artificiale\\hazelnut\\train\"\n",
    "TEST_PATH = r\"C:\\Users\\filip\\Desktop\\Universita\\Laboratorio di Intelligenza Artificiale\\hazelnut\\test\"\n",
    "training_set = tf.keras.utils.image_dataset_from_directory(TRAIN_PATH, image_size = (64, 64), batch_size = 17)\n",
    "test_set = tf.keras.utils.image_dataset_from_directory(TEST_PATH, image_size = (64, 64))\n",
    "\n",
    "normalization_layer = tf.keras.layers.Rescaling(scale = (1./127.5), offset = -1)\n",
    "\n",
    "normalized_training_set = training_set.map(lambda x, y: (normalization_layer(x), y))\n",
    "normalized_test_set = test_set.map(lambda x, y: (normalization_layer(x), y))"
   ]
  },
  {
   "cell_type": "code",
   "execution_count": 4,
   "id": "08ee3e61",
   "metadata": {},
   "outputs": [],
   "source": [
    "gan = DCGAN()"
   ]
  },
  {
   "cell_type": "code",
   "execution_count": 5,
   "id": "96d0eb42",
   "metadata": {},
   "outputs": [
    {
     "data": {
      "image/png": "[encoded data removed]",
      "text/plain": [
       "<Figure size 432x288 with 1 Axes>"
      ]
     },
     "metadata": {
      "needs_background": "light"
     },
     "output_type": "display_data"
    }
   ],
   "source": [
    "img = gan.generator(tf.random.normal([1,100]))\n",
    "\n",
    "plt.imshow(img[0, :, :, 0])\n",
    "plt.show()"
   ]
  },
  {
   "cell_type": "code",
   "execution_count": 6,
   "id": "d6107bee",
   "metadata": {},
   "outputs": [
    {
     "name": "stdout",
     "output_type": "stream",
     "text": [
      "tf.Tensor([[-0.00045376]], shape=(1, 1), dtype=float32)\n"
     ]
    }
   ],
   "source": [
    "print(gan.discriminator(img))"
   ]
  },
  {
   "cell_type": "code",
   "execution_count": 20,
   "id": "183c2abc",
   "metadata": {
    "scrolled": true
   },
   "outputs": [
    {
     "name": "stdout",
     "output_type": "stream",
     "text": [
      "Epoch 1  -  Generator Loss: 3.246\tDiscriminator Loss: 0.408\n",
      "Epoch 2  -  Generator Loss: 3.633\tDiscriminator Loss: 0.312\n",
      "Epoch 3  -  Generator Loss: 3.684\tDiscriminator Loss: 0.251\n",
      "Epoch 4  -  Generator Loss: 3.771\tDiscriminator Loss: 0.270\n",
      "Epoch 5  -  Generator Loss: 3.912\tDiscriminator Loss: 0.239\n",
      "Epoch 6  -  Generator Loss: 3.822\tDiscriminator Loss: 0.325\n",
      "Epoch 7  -  Generator Loss: 3.672\tDiscriminator Loss: 0.271\n",
      "Epoch 8  -  Generator Loss: 3.821\tDiscriminator Loss: 0.262\n",
      "Epoch 9  -  Generator Loss: 3.900\tDiscriminator Loss: 0.321\n",
      "Epoch 10  -  Generator Loss: 3.963\tDiscriminator Loss: 0.285\n",
      "Epoch 11  -  Generator Loss: 4.056\tDiscriminator Loss: 0.286\n",
      "Epoch 12  -  Generator Loss: 3.837\tDiscriminator Loss: 0.347\n",
      "Epoch 13  -  Generator Loss: 4.499\tDiscriminator Loss: 0.187\n",
      "Epoch 14  -  Generator Loss: 3.869\tDiscriminator Loss: 0.255\n",
      "Epoch 15  -  Generator Loss: 3.865\tDiscriminator Loss: 0.347\n",
      "Epoch 16  -  Generator Loss: 4.253\tDiscriminator Loss: 0.244\n",
      "Epoch 17  -  Generator Loss: 3.769\tDiscriminator Loss: 0.325\n",
      "Epoch 18  -  Generator Loss: 4.027\tDiscriminator Loss: 0.263\n",
      "Epoch 19  -  Generator Loss: 4.223\tDiscriminator Loss: 0.342\n",
      "Epoch 20  -  Generator Loss: 3.970\tDiscriminator Loss: 0.209\n",
      "Epoch 21  -  Generator Loss: 4.653\tDiscriminator Loss: 0.182\n",
      "Epoch 22  -  Generator Loss: 4.368\tDiscriminator Loss: 0.214\n",
      "Epoch 23  -  Generator Loss: 3.426\tDiscriminator Loss: 0.457\n",
      "Epoch 24  -  Generator Loss: 4.079\tDiscriminator Loss: 0.266\n",
      "Epoch 25  -  Generator Loss: 4.174\tDiscriminator Loss: 0.351\n",
      "Epoch 26  -  Generator Loss: 4.127\tDiscriminator Loss: 0.239\n",
      "Epoch 27  -  Generator Loss: 4.309\tDiscriminator Loss: 0.329\n",
      "Epoch 28  -  Generator Loss: 3.978\tDiscriminator Loss: 0.248\n",
      "Epoch 29  -  Generator Loss: 3.773\tDiscriminator Loss: 0.303\n",
      "Epoch 30  -  Generator Loss: 3.939\tDiscriminator Loss: 0.394\n",
      "Epoch 31  -  Generator Loss: 4.014\tDiscriminator Loss: 0.399\n",
      "Epoch 32  -  Generator Loss: 4.597\tDiscriminator Loss: 0.188\n",
      "Epoch 33  -  Generator Loss: 3.957\tDiscriminator Loss: 0.297\n",
      "Epoch 34  -  Generator Loss: 4.282\tDiscriminator Loss: 0.278\n",
      "Epoch 35  -  Generator Loss: 4.067\tDiscriminator Loss: 0.364\n",
      "Epoch 36  -  Generator Loss: 4.258\tDiscriminator Loss: 0.261\n",
      "Epoch 37  -  Generator Loss: 3.876\tDiscriminator Loss: 0.365\n",
      "Epoch 38  -  Generator Loss: 3.940\tDiscriminator Loss: 0.263\n",
      "Epoch 39  -  Generator Loss: 3.912\tDiscriminator Loss: 0.428\n",
      "Epoch 40  -  Generator Loss: 4.336\tDiscriminator Loss: 0.181\n",
      "Epoch 41  -  Generator Loss: 3.803\tDiscriminator Loss: 0.271\n",
      "Epoch 42  -  Generator Loss: 3.711\tDiscriminator Loss: 0.339\n",
      "Epoch 43  -  Generator Loss: 4.003\tDiscriminator Loss: 0.284\n",
      "Epoch 44  -  Generator Loss: 3.582\tDiscriminator Loss: 0.313\n",
      "Epoch 45  -  Generator Loss: 4.193\tDiscriminator Loss: 0.238\n",
      "Epoch 46  -  Generator Loss: 4.118\tDiscriminator Loss: 0.375\n",
      "Epoch 47  -  Generator Loss: 3.805\tDiscriminator Loss: 0.244\n",
      "Epoch 48  -  Generator Loss: 3.704\tDiscriminator Loss: 0.275\n",
      "Epoch 49  -  Generator Loss: 3.739\tDiscriminator Loss: 0.325\n",
      "Epoch 50  -  Generator Loss: 4.688\tDiscriminator Loss: 0.255\n",
      "Epoch 51  -  Generator Loss: 4.550\tDiscriminator Loss: 0.260\n",
      "Epoch 52  -  Generator Loss: 3.866\tDiscriminator Loss: 0.333\n",
      "Epoch 53  -  Generator Loss: 4.209\tDiscriminator Loss: 0.242\n",
      "Epoch 54  -  Generator Loss: 3.536\tDiscriminator Loss: 0.368\n",
      "Epoch 55  -  Generator Loss: 4.396\tDiscriminator Loss: 0.185\n",
      "Epoch 56  -  Generator Loss: 4.149\tDiscriminator Loss: 0.257\n",
      "Epoch 57  -  Generator Loss: 3.783\tDiscriminator Loss: 0.282\n",
      "Epoch 58  -  Generator Loss: 3.840\tDiscriminator Loss: 0.279\n",
      "Epoch 59  -  Generator Loss: 3.602\tDiscriminator Loss: 0.324\n",
      "Epoch 60  -  Generator Loss: 4.261\tDiscriminator Loss: 0.404\n",
      "Epoch 61  -  Generator Loss: 4.373\tDiscriminator Loss: 0.275\n",
      "Epoch 62  -  Generator Loss: 3.750\tDiscriminator Loss: 0.413\n",
      "Epoch 63  -  Generator Loss: 4.492\tDiscriminator Loss: 0.168\n",
      "Epoch 64  -  Generator Loss: 3.970\tDiscriminator Loss: 0.479\n",
      "Epoch 65  -  Generator Loss: 4.018\tDiscriminator Loss: 0.319\n",
      "Epoch 66  -  Generator Loss: 3.650\tDiscriminator Loss: 0.310\n",
      "Epoch 67  -  Generator Loss: 4.404\tDiscriminator Loss: 0.332\n",
      "Epoch 68  -  Generator Loss: 3.671\tDiscriminator Loss: 0.271\n",
      "Epoch 69  -  Generator Loss: 3.736\tDiscriminator Loss: 0.356\n",
      "Epoch 70  -  Generator Loss: 4.223\tDiscriminator Loss: 0.272\n",
      "Epoch 71  -  Generator Loss: 3.649\tDiscriminator Loss: 0.343\n",
      "Epoch 72  -  Generator Loss: 4.293\tDiscriminator Loss: 0.400\n",
      "Epoch 73  -  Generator Loss: 4.667\tDiscriminator Loss: 0.262\n",
      "Epoch 74  -  Generator Loss: 3.714\tDiscriminator Loss: 0.291\n",
      "Epoch 75  -  Generator Loss: 4.322\tDiscriminator Loss: 0.273\n",
      "Epoch 76  -  Generator Loss: 3.750\tDiscriminator Loss: 0.486\n",
      "Epoch 77  -  Generator Loss: 3.610\tDiscriminator Loss: 0.364\n",
      "Epoch 78  -  Generator Loss: 4.237\tDiscriminator Loss: 0.233\n",
      "Epoch 79  -  Generator Loss: 4.429\tDiscriminator Loss: 0.292\n",
      "Epoch 80  -  Generator Loss: 4.727\tDiscriminator Loss: 0.316\n",
      "Epoch 81  -  Generator Loss: 4.766\tDiscriminator Loss: 0.302\n",
      "Epoch 82  -  Generator Loss: 4.153\tDiscriminator Loss: 0.225\n",
      "Epoch 83  -  Generator Loss: 3.924\tDiscriminator Loss: 0.206\n",
      "Epoch 84  -  Generator Loss: 3.566\tDiscriminator Loss: 0.387\n",
      "Epoch 85  -  Generator Loss: 3.452\tDiscriminator Loss: 0.368\n",
      "Epoch 86  -  Generator Loss: 4.355\tDiscriminator Loss: 0.229\n",
      "Epoch 87  -  Generator Loss: 4.237\tDiscriminator Loss: 0.256\n",
      "Epoch 88  -  Generator Loss: 4.167\tDiscriminator Loss: 0.231\n",
      "Epoch 89  -  Generator Loss: 4.275\tDiscriminator Loss: 0.276\n",
      "Epoch 90  -  Generator Loss: 4.251\tDiscriminator Loss: 0.354\n",
      "Epoch 91  -  Generator Loss: 4.021\tDiscriminator Loss: 0.246\n",
      "Epoch 92  -  Generator Loss: 3.826\tDiscriminator Loss: 0.366\n",
      "Epoch 93  -  Generator Loss: 4.171\tDiscriminator Loss: 0.274\n",
      "Epoch 94  -  Generator Loss: 3.926\tDiscriminator Loss: 0.217\n",
      "Epoch 95  -  Generator Loss: 3.841\tDiscriminator Loss: 0.338\n",
      "Epoch 96  -  Generator Loss: 4.457\tDiscriminator Loss: 0.306\n",
      "Epoch 97  -  Generator Loss: 4.388\tDiscriminator Loss: 0.272\n",
      "Epoch 98  -  Generator Loss: 4.518\tDiscriminator Loss: 0.267\n",
      "Epoch 99  -  Generator Loss: 4.243\tDiscriminator Loss: 0.197\n",
      "Epoch 100  -  Generator Loss: 4.354\tDiscriminator Loss: 0.211\n"
     ]
    }
   ],
   "source": [
    "#Train\n",
    "gan.restore()\n",
    "disc_loss, gen_loss = gan.train(normalized_training_set, EPOCHS)"
   ]
  },
  {
   "cell_type": "code",
   "execution_count": 7,
   "id": "98f3c93d",
   "metadata": {},
   "outputs": [],
   "source": [
    "gan.restore()"
   ]
  },
  {
   "cell_type": "code",
   "execution_count": 8,
   "id": "e1546bb1",
   "metadata": {},
   "outputs": [
    {
     "data": {
      "image/png": "[encoded data removed]",
      "text/plain": [
       "<Figure size 432x288 with 1 Axes>"
      ]
     },
     "metadata": {
      "needs_background": "light"
     },
     "output_type": "display_data"
    }
   ],
   "source": [
    "generated_img = gan.generator(tf.random.normal([1, 100]))\n",
    "plt.imshow(generated_img[0, :, :, 0])\n",
    "plt.show()"
   ]
  },
  {
   "cell_type": "code",
   "execution_count": 9,
   "id": "edff180d",
   "metadata": {
    "collapsed": true
   },
   "outputs": [
    {
     "ename": "NameError",
     "evalue": "name 'disc_loss' is not defined",
     "output_type": "error",
     "traceback": [
      "\u001b[1;31m---------------------------------------------------------------------------\u001b[0m",
      "\u001b[1;31mNameError\u001b[0m                                 Traceback (most recent call last)",
      "Input \u001b[1;32mIn [9]\u001b[0m, in \u001b[0;36m<cell line: 1>\u001b[1;34m()\u001b[0m\n\u001b[1;32m----> 1\u001b[0m plt\u001b[38;5;241m.\u001b[39mplot(\u001b[43mdisc_loss\u001b[49m)\n\u001b[0;32m      2\u001b[0m plt\u001b[38;5;241m.\u001b[39mplot(gen_loss)\n\u001b[0;32m      3\u001b[0m plt\u001b[38;5;241m.\u001b[39mshow()\n",
      "\u001b[1;31mNameError\u001b[0m: name 'disc_loss' is not defined"
     ]
    }
   ],
   "source": [
    "plt.plot(disc_loss)\n",
    "plt.plot(gen_loss)\n",
    "plt.show()"
   ]
  },
  {
   "cell_type": "code",
   "execution_count": 10,
   "id": "31ed0f93",
   "metadata": {},
   "outputs": [],
   "source": [
    "anogan = AnoGAN(gan)"
   ]
  },
  {
   "cell_type": "code",
   "execution_count": 11,
   "id": "82e0fe64",
   "metadata": {},
   "outputs": [
    {
     "name": "stdout",
     "output_type": "stream",
     "text": [
      "1/1 [==============================] - 0s 91ms/step\n",
      "1/1 [==============================] - 0s 171ms/step\n"
     ]
    }
   ],
   "source": [
    "test_image = []\n",
    "for images, labels in normalized_test_set:\n",
    "    for i in range(1):\n",
    "        test_image = images[i].numpy()\n",
    "    break\n",
    "test_image = np.array([test_image])\n",
    "anomaly_score, similar_img = anogan.compute_anomaly_score(test_image)"
   ]
  },
  {
   "cell_type": "code",
   "execution_count": 12,
   "id": "6fe24c49",
   "metadata": {},
   "outputs": [
    {
     "name": "stdout",
     "output_type": "stream",
     "text": [
      "2394.130126953125\n"
     ]
    }
   ],
   "source": [
    "print(anomaly_score)"
   ]
  },
  {
   "cell_type": "code",
   "execution_count": 17,
   "id": "4f76b49b",
   "metadata": {},
   "outputs": [
    {
     "data": {
      "text/plain": [
       "<matplotlib.image.AxesImage at 0x1d8ee284f40>"
      ]
     },
     "execution_count": 17,
     "metadata": {},
     "output_type": "execute_result"
    },
    {
     "data": {
      "image/png": "[encoded data removed]",
      "text/plain": [
       "<Figure size 432x288 with 1 Axes>"
      ]
     },
     "metadata": {
      "needs_background": "light"
     },
     "output_type": "display_data"
    }
   ],
   "source": [
    "plt.imshow(similar_img[0, :, :, 0] - test_image[0, :, :, 0])"
   ]
  },
  {
   "cell_type": "code",
   "execution_count": null,
   "id": "694c7426",
   "metadata": {},
   "outputs": [],
   "source": []
  }
 ],
 "metadata": {
  "kernelspec": {
   "display_name": "Python 3 (ipykernel)",
   "language": "python",
   "name": "python3"
  },
  "language_info": {
   "codemirror_mode": {
    "name": "ipython",
    "version": 3
   },
   "file_extension": ".py",
   "mimetype": "text/x-python",
   "name": "python",
   "nbconvert_exporter": "python",
   "pygments_lexer": "ipython3",
   "version": "3.9.1"
  }
 },
 "nbformat": 4,
 "nbformat_minor": 5
}
